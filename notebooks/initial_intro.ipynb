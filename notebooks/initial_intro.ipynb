{
 "cells": [
  {
   "cell_type": "code",
   "execution_count": 1,
   "id": "2e07b02f-bcc9-4c23-bfaa-4d35f5b08ef2",
   "metadata": {},
   "outputs": [],
   "source": [
    "import sys\n",
    "sys.path.append('../src/')\n",
    "import os\n",
    "import copy\n",
    "\n",
    "\n",
    "import numpy as np\n",
    "import sklearn\n",
    "from sklearn import metrics\n",
    "import tensorly as tn\n",
    "import math\n",
    "# import matlab\n",
    "import matlab.engine\n",
    "import matplotlib.pyplot as plt\n",
    "import time\n",
    "\n",
    "# import milk_tools"
   ]
  },
  {
   "cell_type": "markdown",
   "id": "ed76bbd0-8266-4993-b9f3-9478f494b487",
   "metadata": {},
   "source": [
    "### Load Dataset"
   ]
  },
  {
   "cell_type": "code",
   "execution_count": 8,
   "id": "d27cc0d4-c3cf-4087-9c86-0d22acaba14c",
   "metadata": {},
   "outputs": [
    {
     "name": "stdout",
     "output_type": "stream",
     "text": [
      "Targets shape: (3282, 53)\n",
      "(3282, 52)\n",
      "(52, 3282)\n",
      "(3282,)\n",
      "33\n"
     ]
    }
   ],
   "source": [
    "# spectra_path = '../data/casein_data.npy' # dummy dataset name for now, 999 wavenumber & 1 target\n",
    "# spectra_path = '../data/2024_caseinval_data.npy' # 2024 company test data\n",
    "# spectra_path = '../data/2022_caseinval_data.npy' # 2022 company test data\n",
    "# spectra_path = '../data/2024_caseinvaldata_reduced.npy' # 2024 company test data (reduced)\n",
    "# spectra_path = '../data/2022_caseinvaldata_reduced.npy' # 2022 company test data (reduced)\n",
    "spectra_path = '../data/caseintraindata_reduced.npy'    # training data (reduced)\n",
    "raw_spectra_and_labels = np.load(spectra_path)\n",
    "print(f\"Targets shape: {raw_spectra_and_labels.shape}\")\n",
    "\n",
    "# tensorlab_path = '~/ware/matlab_tools/tensorlab'\n",
    "tensorlab_path = '~/tools/matlab_tools/Tensorlab'\n",
    "\n",
    "eng = matlab.engine.start_matlab()\n",
    "s = eng.genpath(tensorlab_path)\n",
    "eng.addpath(s,nargout=0)\n",
    "\n",
    "num_spectra = raw_spectra_and_labels.shape[0]\n",
    "num_waveNums = raw_spectra_and_labels.shape[1] - 1\n",
    "\n",
    "spectra = copy.deepcopy(raw_spectra_and_labels[:,:num_waveNums])\n",
    "print(spectra.shape)\n",
    "spectra = np.transpose(spectra)\n",
    "print(spectra.shape)\n",
    "labels = copy.deepcopy(raw_spectra_and_labels[:,-1])\n",
    "print(labels.shape)\n",
    "\n",
    "num_splits = num_spectra // 100\n",
    "last_split = num_spectra % 100\n",
    "\n",
    "lwn_spectra = []\n",
    "for i in range(num_splits):\n",
    "    lo = i * 100\n",
    "    hi = i * 100 + 100\n",
    "    L = eng.loewnerize(np.array(spectra[:,lo:hi]), nargout=1)\n",
    "    lwn_spectra.append(np.array(L))\n",
    "L = eng.loewnerize(np.array(spectra[:,100*num_splits:]), nargout=1)\n",
    "lwn_spectra.append(np.array(L))\n",
    "# for i in range(num_spectra):\n",
    "#     tmp_spec = np.array(spectra[i,:])\n",
    "#     print(tmp_spec.shape)\n",
    "    # tmp_l = eng.loewnerize(tmp_spec,'dim',1,'t',np.linspace(0,1,num_waveNums), nargout=1)\n",
    "print(len(lwn_spectra))\n",
    "\n",
    "\n"
   ]
  },
  {
   "cell_type": "code",
   "execution_count": 9,
   "id": "5b40a6aa-6eb6-4629-b28a-5860abaf87d9",
   "metadata": {},
   "outputs": [
    {
     "name": "stdout",
     "output_type": "stream",
     "text": [
      "(26, 26, 3282)\n"
     ]
    }
   ],
   "source": [
    "lwn_spectra = np.dstack(lwn_spectra)\n",
    "print(lwn_spectra.shape)"
   ]
  },
  {
   "cell_type": "code",
   "execution_count": 9,
   "id": "80bf9665-856e-4eb5-878a-9abfe28b0082",
   "metadata": {},
   "outputs": [],
   "source": [
    "lwn_path = '/Users/matthewmerris/dev/research/milk/results/lwn_spec.npz'\n",
    "np.savez(lwn_path, lwn_spectra, labels)\n"
   ]
  },
  {
   "cell_type": "code",
   "execution_count": 10,
   "id": "46da3157-ccf0-4e75-b950-0c0ac2a32edc",
   "metadata": {},
   "outputs": [],
   "source": [
    "lwn_path = '/Users/matthewmerris/dev/research/milk/results/lwn_spec_train_reduced.npz'\n",
    "np.savez(lwn_path, lwn_spectra, labels)"
   ]
  },
  {
   "cell_type": "code",
   "execution_count": 37,
   "id": "ac158bb7-f5fd-414f-87d2-d3d1612ea6d0",
   "metadata": {},
   "outputs": [
    {
     "name": "stdout",
     "output_type": "stream",
     "text": [
      "1.0\n",
      "2.0\n"
     ]
    }
   ],
   "source": [
    "print(L['dim'])\n",
    "# print(L['ind'])\n",
    "print(L['order'])\n"
   ]
  },
  {
   "cell_type": "code",
   "execution_count": null,
   "id": "1483570c-334c-431f-8376-5c8c019cf55a",
   "metadata": {},
   "outputs": [],
   "source": [
    "# Save lwn_spectra (500 x 499 x 3282) and labels ("
   ]
  },
  {
   "cell_type": "code",
   "execution_count": 16,
   "id": "4064e070-9411-401b-92ca-38304353c8f9",
   "metadata": {},
   "outputs": [],
   "source": [
    "eng.quit()\n"
   ]
  }
 ],
 "metadata": {
  "kernelspec": {
   "display_name": "milk",
   "language": "python",
   "name": "milk"
  },
  "language_info": {
   "codemirror_mode": {
    "name": "ipython",
    "version": 3
   },
   "file_extension": ".py",
   "mimetype": "text/x-python",
   "name": "python",
   "nbconvert_exporter": "python",
   "pygments_lexer": "ipython3",
   "version": "3.9.12"
  }
 },
 "nbformat": 4,
 "nbformat_minor": 5
}
